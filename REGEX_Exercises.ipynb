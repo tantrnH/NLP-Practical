{
 "cells": [
  {
   "cell_type": "markdown",
   "metadata": {
    "id": "0XjkcJS0WQIz"
   },
   "source": [
    "# Regular Expressions Exercises\n",
    "\n",
    "Lets download the complete works of sherlock holmes and do some detective work using REGEX.\n",
    "\n",
    "For many of these exercises it is helpful to compile a regular expression p and then use p.findall() followed by some additional simple python processing to answer the questions\n",
    "\n",
    "start by importing re"
   ]
  },
  {
   "cell_type": "code",
   "execution_count": null,
   "metadata": {
    "id": "IR1qv3vrWQI5"
   },
   "outputs": [],
   "source": [
    "import re"
   ]
  },
  {
   "cell_type": "markdown",
   "metadata": {
    "id": "sfCrY4plWQI7"
   },
   "source": [
    "now lets download sherlock holmes"
   ]
  },
  {
   "cell_type": "code",
   "execution_count": null,
   "metadata": {
    "id": "-2kLQbjWWQI8"
   },
   "outputs": [],
   "source": [
    "# for linux and mac\n",
    "#!wget https://sherlock-holm.es/stories/plain-text/cnus.txt\n",
    "# for windows, use your browser to download txt file and place in working directory"
   ]
  },
  {
   "cell_type": "markdown",
   "metadata": {
    "id": "YFlIuaiJWQI8"
   },
   "source": [
    "If we open that file we will get access to the complete works of Sherlock Holmes"
   ]
  },
  {
   "cell_type": "code",
   "execution_count": 2,
   "metadata": {
    "id": "H3dPOZa2WQI9",
    "outputId": "214f6f3e-6a6d-4e3c-9da7-43a88d22d05f"
   },
   "outputs": [],
   "source": [
    "text = ''\n",
    "with open('cnus.txt','r') as f:\n",
    "    text = \" \".join([l.strip() for l in f.readlines()])"
   ]
  },
  {
   "cell_type": "code",
   "execution_count": null,
   "metadata": {
    "id": "guwn6m4rWQI_",
    "scrolled": true
   },
   "outputs": [],
   "source": [
    "text[2611:3000]"
   ]
  },
  {
   "cell_type": "markdown",
   "metadata": {
    "id": "ls38C6qbWQJA"
   },
   "source": [
    "Question 1\n",
    "\n",
    "One of Sherlock Holmes' famous catch phrases is the use of the word 'undoubtedly'\n",
    "\n",
    "How many times is the word 'undoubtedly' used?"
   ]
  },
  {
   "cell_type": "code",
   "execution_count": null,
   "metadata": {
    "id": "o-fuGxv1WQJA"
   },
   "outputs": [],
   "source": [
    "p = re.compile('undoubtedly')\n",
    "len(p.findall(text))"
   ]
  },
  {
   "cell_type": "markdown",
   "metadata": {
    "id": "PMlfy2AaWQJB"
   },
   "source": [
    "## Question 2\n",
    "\n",
    "Characters are announced very deliberatly in the language of the setting in Victorian England. We can use this later to find characters in the book. But for now let's practice on a character we know\n",
    "\n",
    "How often is Sherlock Holmes refered to by 'Mr. Sherlock Holmes' vs 'Sherlock Holmes' vs. 'Mr. Holmes' vs 'Sherlock'"
   ]
  },
  {
   "cell_type": "code",
   "execution_count": 5,
   "metadata": {},
   "outputs": [
    {
     "name": "stdout",
     "output_type": "stream",
     "text": [
      "Mr.Sherlock Holmes: 93\n",
      "Sherlock Holmes: 361\n",
      "Mr. Holmes: 496\n",
      "Sherlock: 383\n"
     ]
    }
   ],
   "source": [
    "#OR\n",
    "import re\n",
    "\n",
    "# Define the patterns\n",
    "patterns = {\n",
    "    \"Mr.Sherlock Holmes\": r\"\\bMr\\. Sherlock Holmes\\b\",\n",
    "    \"Sherlock Holmes\": r\"\\bSherlock Holmes\\b\",\n",
    "    \"Mr. Holmes\": r\"\\bMr\\. Holmes\\b\",\n",
    "    \"Sherlock\": r\"\\bSherlock\\b\"\n",
    "}\n",
    "\n",
    "# Initialize an empty dictionary to store the counts\n",
    "counts = {}\n",
    "\n",
    "# Loop throungh each name and pattern, apply re.findall and store the \n",
    "for name, pattern in patterns.items():\n",
    "    count = len(re.findall(pattern,text))\n",
    "    counts[name] = count\n",
    "\n",
    "# Print results\n",
    "for name, count in counts.items():\n",
    "    print(f\"{name}: {count}\")"
   ]
  },
  {
   "cell_type": "markdown",
   "metadata": {
    "id": "V-aSDRWxWQJC"
   },
   "source": [
    "## Question 3\n",
    "\n",
    "* Find all the doctors in the collection\n",
    "    \n",
    "* make a list of all the characters that appear in the collection (hint: Mrs. Mr. Miss Dr. etc)"
   ]
  },
  {
   "cell_type": "code",
   "execution_count": 12,
   "metadata": {},
   "outputs": [
    {
     "name": "stdout",
     "output_type": "stream",
     "text": [
      "['Dr. Ainstree', 'Dr. Armstrong', 'Dr. Barnicot', 'Dr. Becher', 'Dr. Ferrier', 'Dr. Fordham', 'Dr. Grimesby', 'Dr. Horsom', 'Dr. Huxtable', 'Dr. James', 'Dr. Leon', 'Dr. Leslie', 'Dr. Moore', 'Dr. Mortimer', 'Dr. Percy', 'Dr. Richards', 'Dr. Roylott', 'Dr. Shlessinger', 'Dr. Somerton', 'Dr. Sterndale', 'Dr. Thorneycroft', 'Dr. Trevelyan', 'Dr. Watson', 'Dr. Willows', 'Dr. Wood', 'Miss Adler', 'Miss Alice', 'Miss Brenda', 'Miss Burnet', 'Miss Cushing', 'Miss Dobney', 'Miss Doran', 'Miss Edith', 'Miss Ettie', 'Miss Flora', 'Miss Fraser', 'Miss Harrison', 'Miss Hatty', 'Miss Helen', 'Miss Holder', 'Miss Honoria', 'Miss Hunter', 'Miss Irene', 'Miss M', 'Miss Marie', 'Miss Mary', 'Miss Miles', 'Miss Morrison', 'Miss Morstan', 'Miss Nancy', 'Miss Rachel', 'Miss Roylott', 'Miss Rucastle', 'Miss S', 'Miss Sarah', 'Miss Smith', 'Miss Stapleton', 'Miss Stoner', 'Miss Stoper', 'Miss Susan', 'Miss Sutherland', 'Miss Turner', 'Miss Violet', 'Miss Westbury', 'Mr. Abe', 'Mr. Abelwhite', 'Mr. Acton', 'Mr. Alec', 'Mr. Aloysius', 'Mr. Altamont', 'Mr. Ames', 'Mr. Angel', 'Mr. Armitage', 'Mr. Arthur', 'Mr. Athelney', 'Mr. Baker', 'Mr. Baldwin', 'Mr. Barker', 'Mr. Barrymore', 'Mr. Bartholomew', 'Mr. Baynes', 'Mr. Beddoes', 'Mr. Bender', 'Mr. Blessington', 'Mr. Boarder', 'Mr. Breckinridge', 'Mr. Brown', 'Mr. Browner', 'Mr. Busybody', 'Mr. Carruthers', 'Mr. Cecil', 'Mr. Chairman', 'Mr. Charles', 'Mr. Cocksure', 'Mr. Cornelius', 'Mr. Crooked', 'Mr. Cubitt', 'Mr. Culverton', 'Mr. Cunningham', 'Mr. Cyril', 'Mr. Detective', 'Mr. Doran', 'Mr. Douglas', 'Mr. Drebber', 'Mr. Duncan', 'Mr. Eccles', 'Mr. Eduardo', 'Mr. Enoch', 'Mr. Fairdale', 'Mr. Farquhar', 'Mr. Ferguson', 'Mr. Forbes', 'Mr. Fordham', 'Mr. Fowler', 'Mr. Frankland', 'Mr. Garcia', 'Mr. Gilchrist', 'Mr. Godfrey', 'Mr. Grant', 'Mr. Green', 'Mr. Gregson', 'Mr. Hall', 'Mr. Harding', 'Mr. Hardy', 'Mr. Harker', 'Mr. Harris', 'Mr. Harrison', 'Mr. Harry', 'Mr. Hatherley', 'Mr. Hayes', 'Mr. Heath', 'Mr. Henderson', 'Mr. Henry', 'Mr. Hilton', 'Mr. Holder', 'Mr. Holmes', 'Mr. Homes', 'Mr. Hope', 'Mr. Hopkins', 'Mr. Horace', 'Mr. Hosmer', 'Mr. Hugo', 'Mr. Huxtable', 'Mr. Hyam', 'Mr. Hynes', 'Mr. Inspector', 'Mr. Isa', 'Mr. Jabez', 'Mr. Jack', 'Mr. James', 'Mr. Jefferson', 'Mr. Jeremiah', 'Mr. Jeremy', 'Mr. John', 'Mr. Johnson', 'Mr. Jonas', 'Mr. Jones', 'Mr. Joseph', 'Mr. Josiah', 'Mr. Lanner', 'Mr. Latimer', 'Mr. Lestrade', 'Mr. Leverton', 'Mr. Lucas', 'Mr. Mac', 'Mr. MacDonald', 'Mr. McCarthy', 'Mr. McFarlane', 'Mr. McGinty', 'Mr. McMurdo', 'Mr. Melas', 'Mr. Merryweather', 'Mr. Milverton', 'Mr. Mordecai', 'Mr. Moriarty', 'Mr. Morris', 'Mr. Morse', 'Mr. Mortimer', 'Mr. Moulton', 'Mr. Munro', 'Mr. Murray', 'Mr. Musgrave', 'Mr. Mycroft', 'Mr. Neville', 'Mr. Oberstein', 'Mr. Oldacre', 'Mr. Overton', 'Mr. Patrick', 'Mr. Percy', 'Mr. Peters', 'Mr. Phelps', 'Mr. Pickwick', 'Mr. Pinner', 'Mr. Price', 'Mr. Pycroft', 'Mr. Reuben', 'Mr. Roundhay', 'Mr. Rucastle', 'Mr. Ryder', 'Mr. Sandeford', 'Mr. Scott', 'Mr. Shafter', 'Mr. Sherlock', 'Mr. Sherman', 'Mr. Sholto', 'Mr. Sidney', 'Mr. Silas', 'Mr. Slaney', 'Mr. Smith', 'Mr. Soames', 'Mr. St', 'Mr. Standback', 'Mr. Stanger', 'Mr. Stangerson', 'Mr. Stapleton', 'Mr. Staunton', 'Mr. Thaddeus', 'Mr. Theorist', 'Mr. Treasurer', 'Mr. Tregennis', 'Mr. Trelawney', 'Mr. Trevor', 'Mr. Turner', 'Mr. Victor', 'Mr. Von', 'Mr. Warren', 'Mr. White', 'Mr. Wilder', 'Mr. William', 'Mr. Williamson', 'Mr. Willoughby', 'Mr. Wilson', 'Mr. Windibank', 'Mr. Windigate', 'Mr. Woodley', 'Mrs. Allen', 'Mrs. Barclay', 'Mrs. Barrymore', 'Mrs. Bernstone', 'Mrs. Browner', 'Mrs. Carey', 'Mrs. Cecil', 'Mrs. Charpentier', 'Mrs. Dixon', 'Mrs. Douglas', 'Mrs. Etherege', 'Mrs. Farintosh', 'Mrs. Forrester', 'Mrs. Francis', 'Mrs. Hayes', 'Mrs. Hebron', 'Mrs. Henry', 'Mrs. Hilton', 'Mrs. Hudson', 'Mrs. King', 'Mrs. Larbey', 'Mrs. Laura', 'Mrs. Lexington', 'Mrs. Lucca', 'Mrs. Lyons', 'Mrs. Marker', 'Mrs. McGregor', 'Mrs. Moulton', 'Mrs. Oakshott', 'Mrs. Oldmore', 'Mrs. Peters', 'Mrs. Porter', 'Mrs. Pringle', 'Mrs. Rucastle', 'Mrs. Sawyer', 'Mrs. Shlessinger', 'Mrs. Smith', 'Mrs. St', 'Mrs. Stapleton', 'Mrs. Stewart', 'Mrs. Stoner', 'Mrs. Straker', 'Mrs. Tangey', 'Mrs. Toller', 'Mrs. Turner', 'Mrs. Vandeleur', 'Mrs. Warren', 'Mrs. Watson', 'Mrs. Woodley']\n"
     ]
    }
   ],
   "source": [
    "import re\n",
    "\n",
    "##Find all the doctors in the collection\n",
    "\n",
    "# Define the regex pattern to find doctors\n",
    "\n",
    "\n",
    "# Find all matches\n",
    "characters = re.findall(r\"(?:Mrs\\.|Mr\\.|Miss|Dr\\.)\\.?\\s+[A-Z][a-zA-Z]*\\b\", text)\n",
    "\n",
    "# Remove duplicates and sort the names\n",
    "unique_characters = sorted(set(characters))\n",
    "print(unique_characters)"
   ]
  },
  {
   "cell_type": "code",
   "execution_count": null,
   "metadata": {},
   "outputs": [
    {
     "name": "stdout",
     "output_type": "stream",
     "text": [
      "['Dr. Ainstree', 'Dr. Armstrong', 'Dr. Barnicot', 'Dr. Becher', 'Dr. Ferrier', 'Dr. Fordham', 'Dr. Grimesby', 'Dr. Horsom', 'Dr. Huxtable', 'Dr. James', 'Dr. Leon', 'Dr. Leslie', 'Dr. Moore', 'Dr. Mortimer', 'Dr. Percy', 'Dr. Richards', 'Dr. Roylott', 'Dr. Shlessinger', 'Dr. Somerton', 'Dr. Sterndale', 'Dr. Thorneycroft', 'Dr. Trevelyan', 'Dr. Watson', 'Dr. Willows', 'Dr. Wood']\n"
     ]
    }
   ],
   "source": [
    "import re\n",
    "\n",
    "##Find all the doctors in the collection\n",
    "\n",
    "# Define the regex pattern to find doctors\n",
    "pattern = r\"\\bDr\\. [A-Z][a-zA-Z]+\\b\"\n",
    "\n",
    "# Find all matches\n",
    "doctors = re.findall(pattern, text)\n",
    "\n",
    "# Remove duplicates and sort the names\n",
    "unique_doctors = sorted(set(doctors))\n",
    "print(unique_doctors)"
   ]
  },
  {
   "cell_type": "markdown",
   "metadata": {
    "id": "7dvgQ2OQWQJC"
   },
   "source": [
    "## Question 4\n",
    "\n",
    "* Search out all the years and dates that appear in the story"
   ]
  },
  {
   "cell_type": "code",
   "execution_count": null,
   "metadata": {},
   "outputs": [
    {
     "name": "stdout",
     "output_type": "stream",
     "text": [
      "Years mentioned in the text: ['18', '19']\n",
      "\n",
      "Dates mentioned in the text: ['14th of April', '18th of October', '23rd of April', '28th of April', '4th of January', '4th of March', '4th of May', 'About 18', 'Apply 22', 'April 24', 'April 27', 'August 4', 'Chapter 1', 'Chapter 2', 'Chapter 3', 'December 22', 'Formerly 1', 'In 18', 'January 6', 'July 7', 'June 19', 'June 24', 'June 3', 'Lancet 18', 'Lodge 24', 'Lodge 29', 'Lodge 34', 'March 10', 'March 30', 'May 1', 'May 13', 'May 14', 'May 2', 'May 20', 'May 23', 'May 6', 'May 7', 'Number 13', 'Number 3', 'Number 46', 'October 13', 'October 16', 'October 17', 'October 9']\n"
     ]
    }
   ],
   "source": [
    "import re\n",
    "\n",
    "# Define regex patterns\n",
    "year_patterns = r\"\\b(18|19|20)\\d{2}\\b\" # Matches years like 1892, 2023\n",
    "date_patterns = r\"\\b(?:\\d{1,2}(?:st|nd|rd|th)? of [A-Z][a-z]+|[A-Z][a-z]+ \\d{1,2})\"\n",
    "\n",
    "# Find all matches\n",
    "years = re.findall(year_patterns, text)\n",
    "dates = re.findall(date_patterns, text)\n",
    "\n",
    "# Remove duplicates and sort\n",
    "unique_years = sorted(set(years))\n",
    "unique_dates = sorted(set(dates))\n",
    "\n",
    "# Print results\n",
    "print(\"Years mentioned in the text:\", unique_years)\n",
    "print(\"\\nDates mentioned in the text:\", unique_dates)"
   ]
  },
  {
   "cell_type": "markdown",
   "metadata": {
    "id": "oO4WJTZ3WQJD"
   },
   "source": [
    "## Question 5\n",
    "\n",
    "Sherlock holmes is frequently smoking his pipe. But like many verbs in english, there are many ways that the word smoking can be conjugated depending on the context.\n",
    "\n",
    "* capture all sentences that take about smoking (smoke, smokes, smoking, smoked)\n",
    "* capture the two words that appear after the smoking word\n",
    "* capture the two words that appear before the smoking word"
   ]
  },
  {
   "cell_type": "code",
   "execution_count": 15,
   "metadata": {},
   "outputs": [
    {
     "name": "stdout",
     "output_type": "stream",
     "text": [
      "Sentences mentioning smoking:\n",
      "I always smoke 'ship's' myself,\" I answered.\n",
      "He was more than six feet high, was in the prime of life, had small feet for his height, wore coarse, square-toed boots and smoked a Trichinopoly cigar.\n",
      "If you can say definitely, for example, that some murder has been done by a man who was smoking an Indian lunkah, it obviously narrows your field of search.\n",
      "Well, then, I trust that you have no objection to tobacco-smoke, to the mild balsamic odor of the Eastern tobacco.\n",
      "He applied a taper to the great bowl, and the smoke bubbled merrily through the rose-water.\n",
      "Holmes was standing on the door-step, with his hands in his pockets, smoking his pipe.\n",
      "I am going to smoke and to think over this queer business to which my fair client has introduced us.\n",
      "I would have thought no more of knifing him than of smoking this cigar.\n",
      "Abelwhite was a kind man, and he would often drop into my little shanty and smoke a pipe with me, for white folk out there feel their hearts warm to each other as they never do here at home.\n",
      "There he sat on his veranda, drinking whiskey-pegs and smoking cheroots, while the country was in a blaze about him.\n",
      "I reined up my horse, wondering which way I should turn, but at that moment I saw thick smoke curling up from Abelwhite's bungalow and the flames beginning to burst through the roof.\n",
      "Well, and there is the end of our little drama,\" I remarked, after we had set some time smoking in silence.\n",
      "It is an ordinary plumber's smoke-rocket, fitted with a cap at either end to make it self-lighting.\n",
      "There was a group of shabbily dressed men smoking and laughing in a corner, a scissors-grinder with his wheel, two guardsmen who were flirting with a nurse-girl, and several well-dressed young men who were lounging up and down with cigars in their mouths.\n",
      "I hardened my heart, and took the smoke-rocket from under my ulster.\n",
      "Thick clouds of smoke curled through the room and out at the open window.\n",
      "The smoke and shouting were enough to shake nerves of steel.\n",
      "To smoke,\" he answered.\n",
      "It was a poky, little, shabby-genteel place, where four lines of dingy two-storied brick houses looked out into a small railed-in enclosure, where a lawn of weedy grass and a few clumps of faded laurel-bushes made a hard fight against a smoke-laden and uncongenial atmosphere.\n",
      "I have a caseful of cigarettes here which need smoking, and the sofa is very much superior to the usual country hotel abomination.\n",
      "Is a tall man, left-handed, limps with the right leg, wears thick-soled shooting-boots and a grey cloak, smokes Indian cigars, uses a cigar-holder, and carries a blunt pen-knife in his pocket.\n",
      "He had even smoked there.\n",
      "When I went down there I found him talking with his son, so I smoked a cigar and waited behind a tree until he should be alone.\n",
      "He drank a great deal of brandy and smoked very heavily, but he would see no society and did not want any friends, not even his own brother.\n",
      "Then he lit his pipe, and leaning back in his chair he watched the blue smoke-rings as they chased each other up to the ceiling.\n",
      "Ordering my cab to wait, I passed down the steps, worn hollow in the centre by the ceaseless tread of drunken feet; and by the light of a flickering oil-lamp above the door I found the latch and made my way into a long, low room, thick and heavy with the brown opium smoke, and terraced with wooden berths, like the forecastle of an emigrant ship.\n",
      "I suppose, Watson,\" said he, \"that you imagine that I have added opium-smoking to cocaine injections, and all the other little weaknesses on which you have favoured me with your medical views.\n",
      "In the dim light of the lamp I saw him sitting there, an old briar pipe between his lips, his eyes fixed vacantly upon the corner of the ceiling, the blue smoke curling up from him, silent, motionless, with the light shining upon his strong-set aquiline features.\n",
      "The pipe was still between his lips, the smoke still curled upward, and the room was full of a dense tobacco haze, but nothing remained of the heap of shag which I had seen upon the previous night.\n",
      "Outside, the stars were shining coldly in a cloudless sky, and the breath of the passers-by blew out into smoke like so many pistol shots.\n",
      "Then I went into the back yard and smoked a pipe and wondered what it would be best to do.\n",
      "Roylott had gone to his room early, though we knew that he had not retired to rest, for my sister was troubled by the smell of the strong Indian cigars which it was his custom to smoke.\n",
      "The central portion was in little better repair, but the right-hand block was comparatively modern, and the blinds in the windows, with the blue smoke curling up from the chimneys, showed that this was where the family resided.\n",
      "Sherlock Holmes was, as I expected, lounging about his sitting-room in his dressing-gown, reading the agony column of The Times and smoking his before-breakfast pipe, which was composed of all the plugs and dottles left from his smokes of the day before, all carefully dried and collected on the corner of the mantelpiece.\n",
      "As we rolled into Eyford Station we saw a gigantic column of smoke which streamed up from behind a small clump of trees in the neighbourhood and hung like an immense ostrich feather over the landscape.\n",
      "If you care to smoke a cigar in our rooms, Colonel, I shall be happy to give you any other details which might interest you.\n",
      "You think a man must be well-to-do if he smokes a seven-shilling pipe,\" said I.\n",
      "As he might get an excellent smoke for half the price, he has no need to practise economy.\n",
      "Well, I was sitting doing a smoke that very evening after I had been promised the appointment, when up came my landlady with a card which had \"Arthur Pinner, Financial Agent,\" printed upon it.\n",
      "Then he lit his pipe and sat for some time smoking and turning them over.\n",
      "Then we rushed on into the captain's cabin, but as we pushed open the door there was an explosion from within, and there he lay with his brains smeared over the chart of the Atlantic which was pinned upon the table, while the chaplain stood with a smoking pistol in his hand at his elbow.\n",
      "We cracked off the necks of the bottles, poured the stuff out into tumblers, and were just tossing them off, when in an instant without warning there came the roar of muskets in our ears, and the saloon was so full of smoke that we could not see across the table.\n",
      "Suddenly as we looked at her we saw a dense black cloud of smoke shoot up from her, which hung like a monstrous tree upon the sky line.\n",
      "A few seconds later a roar like thunder burst upon our ears, and as the smoke thinned away there was no sign left of the Gloria Scott.\n",
      "Alec was smoking a pipe in his dressing-gown.\n",
      "I was smoking in my dressing-room.\n",
      "This, I understand is your son's room\"--he pushed open the door--\"and that, I presume, is the dressing-room in which he sat smoking when the alarm was given.\n",
      "Sherlock Holmes was as good as his word, for about one o'clock he rejoined us in the Colonel's smoking-room.\n",
      "THE CROOKED MAN  One summer night, a few months after my marriage, I was seated by my own hearth smoking a last pipe and nodding over a novel, for my day's work had been an exhausting one.\n",
      "You still smoke the Arcadia mixture of your bachelor days then!\n",
      "No, thank you, I had some supper at Waterloo, but I'll smoke a pipe with you with pleasure.\n",
      "I handed him my pouch, and he seated himself opposite to me and smoked for some time in silence.\n",
      "Having gathered these facts, Watson, I smoked several pipes over them, trying to separate those which were crucial from others which were merely incidental.\n",
      "His face was as impassive as ever, but his lids had drooped more heavily over his eyes, and his smoke had curled up more thickly from his pipe to emphasize each curious episode in the doctor's tale.\n",
      "Seems to have smoked heavily during the night, too.\n",
      "Two of these have been smoked from a holder and two without,\" said he.\n",
      "It must have lasted for some time, for it was then that these cigars were smoked.\n",
      "His brother Mycroft was sitting smoking in the arm-chair.\n",
      "I never smoke myself, so I think I should have observed it if there had been any smell of tobacco.\n",
      "He drew in the smoke of his cigarette as if the soothing influence was grateful to him.\n",
      "Far away, from among the Kentish woods there rose a thin spray of smoke.\n",
      "The torrent, swollen by the melting snow, plunges into a tremendous abyss, from which the spray rolls up like the smoke from a burning house.\n",
      "She had lit a fire there, and as it smoked she had opened the window.\n",
      "I did so, and, driven by the draught, a coil of grey smoke swirled down the corridor, while the dry straw crackled and flamed.\n",
      "The passage, as well as the room, was full of smoke and the smell of powder.\n",
      "Lie number one,\" said the old man; \"I never saw either of them until two months ago, and I have never been in Africa in my life, so you can put that in your pipe and smoke it, Mr.\n",
      "He had obtained a large ordnance map of the neighbourhood, and this he brought into my room, where he laid it out on the bed, and, having balanced the lamp in the middle of it, he began to smoke over it, and occasionally to point out objects of interest with the reeking amber of his pipe.\n",
      "I had smoked two cigarettes before he moved.\n",
      "With difficulty he limped up to the door, where a squat, dark, elderly man was smoking a black clay pipe.\n",
      "No, sir, we could find no pipe; indeed, he smoked very little.\n",
      "upon the pouch were a coincidence, and not those of Peter Carey, since he seldom smoked, and no pipe was found in his cabin.\n",
      "Still holding my hand in one of his he opened a door, and I was vaguely conscious that we had entered a large room in which a cigar had been smoked not long before.\n",
      "A fire was burning in this new room, and again the air was heavy with tobacco smoke.\n",
      "It was evident that we had entirely miscalculated his movements, that he had never been to his bedroom, but that he had been sitting up in some smoking or billiard room in the farther wing of the house, the windows of which we had not seen.\n",
      "He wore a semi-military smoking jacket, claret-coloured, with a black velvet collar.\n",
      "In his hand he held a long legal document, which he was reading in an indolent fashion, blowing rings of tobacco smoke from his lips as he did so.\n",
      "We had breakfasted and were smoking our morning pipe on the day after the remarkable experience which I have recorded when Mr.\n",
      "I don't think we can even venture to smoke to pass the time.\n",
      "A cigarette glowed amid the tangle of white hair, and the air of the room was fetid with stale tobacco-smoke.\n",
      "I observed that he was smoking with extraordinary rapidity.\n",
      "It depends upon those cigarettes that I smoked,\" said he.\n",
      "He does smoke something terrible.\n",
      "His health--well, I don't know that it's better nor worse for the smoking.\n",
      "I therefore smoked a great number of those excellent cigarettes, and I dropped the ash all over the space in front of the suspected bookcase.\n",
      "I should not sit here smoking with you if I thought that you were a common criminal, you may be sure of that.\n",
      "Holmes smoked for some time in silence.\n",
      "He ran out and ran in, smoked incessantly, played snatches on his violin, sank into reveries, devoured sandwiches at irregular hours, and hardly answered the casual questions which I put to him.\n",
      "I laughed incredulously as Sherlock Holmes leaned back in his settee and blew little wavering rings of smoke up to the ceiling.\n",
      "That night he went out as usual for his nocturnal walk, in the course of which he was in the habit of smoking a cigar.\n",
      "My first impression as I opened the door was that a fire had broken out, for the room was so filled with smoke that the light of the lamp upon the table was blurred by it.\n",
      "A dull light shone through heavy mullioned windows, and from the high chimneys which rose from the steep, high-angled roof there sprang a single black column of smoke.\n",
      "Black beams shot across above our heads, with a smoke-darkened ceiling beyond them.\n",
      "We talked little, and I for one was glad when the meal was over and we were able to retire into the modern billiard-room and smoke a cigarette.\n",
      "From over a distant rise there floated a gray plume of smoke.\n",
      "She had come from the direction in which the plume of smoke indicated the position of Merripit House, but the dip of the moor had hid her until she was quite close.\n",
      "The next night we lowered the lamp, and sat smoking cigarettes without making the least sound.\n",
      "There were the two towers of Baskerville Hall, and there a distant blur of smoke which marked the village of Grimpen.\n",
      "Both of them were smoking cigars, and coffee and wine were in front of them.\n",
      "No, I won't smoke, I thank you.\n",
      "This was destroyed by fire in 1543, and some of its smoke-blackened corner stones were used when, in Jacobean times, a brick country house rose upon the ruins of the feudal castle.\n",
      "Yet, though looked at with some curiosity and reserve by his more cultivated neighbours, he soon acquired a great popularity among the villagers, subscribing handsomely to all local objects, and attending their smoking concerts and other functions, where, having a remarkably rich tenor voice, he was always ready to oblige with an excellent song.\n",
      "May I smoke as I talk?\n",
      "These sat smoking in a group and conversed in low voices, glancing occasionally at two men on the opposite side of the car, whose uniforms and badges showed them to be policemen.\n",
      "Down that long valley there was at least a certain gloomy grandeur in the huge fires and the clouds of drifting smoke, while the strength and industry of man found fitting monuments in the hills which he had spilled by the side of his monstrous excavations.\n",
      "McMurdo pushed open the swinging door of the saloon and made his way amid the crowd of men within, through an atmosphere blurred with tobacco smoke and heavy with the smell of spirits.\n",
      "That same afternoon, as McMurdo sat smoking, lost in thought beside the stove of his sitting-room, the door swung open and its framework was filled with the huge figure of Boss McGinty.\n",
      "McGinty took his eternal half-chewed, half-smoked cigar from the corner of his mouth, and proceeded to draw a rough diagram on a page torn from his notebook.\n",
      "The long room was crowded, and through the haze of tobacco smoke he saw the tangled black mane of the Bodymaster, the cruel, unfriendly features of Baldwin, the vulture face of Harraway, the secretary, and a dozen more who were among the leaders of the lodge.\n",
      "He made no remark, but the matter remained in his thoughts, for he stood in front of the fire afterwards with a thoughtful face, smoking his pipe, and casting an occasional glance at the message.\n",
      "He gave up all pretence at conversation and sat, smoking endless cigarettes, lost in his own thoughts, but he made no remark as to the contents.\n",
      "Holmes smoked hard, with his browns drawn down over his keen eyes, and his head thrust forward in the eager way characteristic of the man.\n",
      "I should say that only a clean-shaven man could have smoked this.\n",
      "Therefore I shall expect to meet you in the smoking-room of the Charing Cross Hotel at noon on Saturday.\n",
      "A high bald head had a small velvet smoking-cap poised coquettishly upon one side of its pink curve.\n",
      "The little man started, and the jaunty smoking-cap slid to the floor.\n",
      "Culverton Smith smiled pleasantly and picked up his smoking-cap.\n",
      "I left him smoking hard, with his heavy, dark brows knotted together, and his long, nervous fingers tapping upon the arms of his chair, as he turned over in his mind every possible solution of the mystery.\n",
      "These were the two men who entered abruptly into our little sitting-room on Tuesday, March the 16th, shortly after our breakfast hour, as we were smoking together, preparatory to our daily excursion upon the moors.\n",
      "He sat coiled in his armchair, his haggard and ascetic face hardly visible amid the blue swirl of his tobacco smoke, his black brows drawn down, his forehead contracted, his eyes vacant and far away.\n",
      "This might partly be due to the fact that a lamp stood flaring and smoking on the centre table.\n",
      "During this time Holmes spent some of his time smoking and dreaming in the cottage; but a greater portion in country walks which he undertook alone, returning after many hours without remark as to where he had been.\n",
      "The obvious place to look was the talc shelf or smoke-guard of the lamp.\n",
      "Then you passed out and closed the window, standing on the lawn outside smoking a cigar and watching what occurred.\n",
      "A half-smoked, sodden cigar hung from the corner of his mouth, and as he sat down he struck a match and relit it.\n"
     ]
    }
   ],
   "source": [
    "## capture all sentences that take abount smoking (smoke, smokes, smoking, smoked)\n",
    "\n",
    "# Define a reges pattern to find sentences with smoking-related words\n",
    "pattern = r\"([A-Z][^.?!]*\\bsmok(?:e|es|ing|ed)\\b[^.?!]*[.?!])\"\n",
    "\n",
    "# Find all matches\n",
    "smoking_sentences = re.findall(pattern, text, re.IGNORECASE)\n",
    "\n",
    "# Print results\n",
    "print(\"Sentences mentioning smoking:\")\n",
    "for sentence in smoking_sentences:\n",
    "    print(sentence.strip())"
   ]
  },
  {
   "cell_type": "code",
   "execution_count": 16,
   "metadata": {},
   "outputs": [
    {
     "name": "stdout",
     "output_type": "stream",
     "text": [
      "Words following smoking-related terms:\n",
      "a Trichinopoly\n",
      "an Indian\n",
      "bubbled merrily\n",
      "his pipe\n",
      "and to\n",
      "this cigar\n",
      "a pipe\n",
      "curling up\n",
      "in silence\n",
      "and laughing\n",
      "curled through\n",
      "and shouting\n",
      "Indian cigars\n",
      "a cigar\n",
      "very heavily\n",
      "to cocaine\n",
      "curling up\n",
      "still curled\n",
      "like so\n",
      "a pipe\n",
      "curling up\n",
      "his before\n",
      "of the\n",
      "which streamed\n",
      "a cigar\n",
      "a seven\n",
      "for half\n",
      "that very\n",
      "and turning\n",
      "pistol in\n",
      "that we\n",
      "shoot up\n",
      "thinned away\n",
      "a pipe\n",
      "in my\n",
      "when the\n",
      "a last\n",
      "the Arcadia\n",
      "a pipe\n",
      "for some\n",
      "several pipes\n",
      "had curled\n",
      "heavily during\n",
      "from a\n",
      "in the\n",
      "of his\n",
      "from a\n",
      "she had\n",
      "swirled down\n",
      "and the\n",
      "over it\n",
      "two cigarettes\n",
      "a black\n",
      "very little\n",
      "not long\n",
      "or billiard\n",
      "from his\n",
      "our morning\n",
      "to pass\n",
      "with extraordinary\n",
      "something terrible\n",
      "a great\n",
      "with you\n",
      "for some\n",
      "up to\n",
      "a cigar\n",
      "that the\n",
      "a cigarette\n",
      "indicated the\n",
      "cigarettes without\n",
      "which marked\n",
      "concerts and\n",
      "as I\n",
      "in a\n",
      "and heavy\n",
      "cigar from\n",
      "he saw\n",
      "his pipe\n",
      "endless cigarettes\n",
      "on the\n",
      "and dreaming\n",
      "a cigar\n"
     ]
    }
   ],
   "source": [
    "# Define the regex pattern to capture the two words after smoking-related terms,\n",
    "pattern = r\"\\bsmok(?:e|es|ing|ed)\\b(?:\\s+(\\w+)\\s+(\\w+))\"\n",
    "\n",
    "# Find a;; matches\n",
    "matches = re.findall(pattern, text, re.IGNORECASE)\n",
    "\n",
    "# Print results\n",
    "print(\"Words following smoking-related terms:\")\n",
    "for match in matches:\n",
    "    print(\" \".join(match))"
   ]
  },
  {
   "cell_type": "markdown",
   "metadata": {
    "id": "OLwlXQgwWQJD"
   },
   "source": [
    "    \n",
    "## Question 6\n",
    "\n",
    "Often we will recieve a block of unstructured text and want to use REGEX to provide some structure. In this case, we may want to split the book by chapter.\n",
    "\n",
    "* use the re.split() function to split the books by chapter."
   ]
  },
  {
   "cell_type": "code",
   "execution_count": null,
   "metadata": {},
   "outputs": [],
   "source": [
    "# Define a regex pattern to match chapter heradings\n",
    "# Example: \"CHAPTER I\", \"CHAPTER 1, etc\""
   ]
  }
 ],
 "metadata": {
  "anaconda-cloud": {},
  "colab": {
   "provenance": []
  },
  "kernelspec": {
   "display_name": "Python 3",
   "language": "python",
   "name": "python3"
  },
  "language_info": {
   "codemirror_mode": {
    "name": "ipython",
    "version": 3
   },
   "file_extension": ".py",
   "mimetype": "text/x-python",
   "name": "python",
   "nbconvert_exporter": "python",
   "pygments_lexer": "ipython3",
   "version": "3.11.1"
  }
 },
 "nbformat": 4,
 "nbformat_minor": 0
}
